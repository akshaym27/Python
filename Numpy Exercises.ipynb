{
 "cells": [
  {
   "cell_type": "code",
   "execution_count": 1,
   "metadata": {},
   "outputs": [],
   "source": [
    "import numpy as np"
   ]
  },
  {
   "cell_type": "code",
   "execution_count": 2,
   "metadata": {},
   "outputs": [
    {
     "data": {
      "text/plain": [
       "array([0., 0., 0., 0., 0., 0., 0., 0., 0., 0.])"
      ]
     },
     "execution_count": 2,
     "metadata": {},
     "output_type": "execute_result"
    }
   ],
   "source": [
    "arr = np.zeros(10)\n",
    "arr"
   ]
  },
  {
   "cell_type": "code",
   "execution_count": 19,
   "metadata": {},
   "outputs": [
    {
     "data": {
      "text/plain": [
       "array([1., 1., 1., 1., 1., 1., 1., 1., 1., 1.])"
      ]
     },
     "execution_count": 19,
     "metadata": {},
     "output_type": "execute_result"
    }
   ],
   "source": [
    "arr = np.ones(10)\n",
    "arr"
   ]
  },
  {
   "cell_type": "code",
   "execution_count": 21,
   "metadata": {},
   "outputs": [
    {
     "data": {
      "text/plain": [
       "array([5., 5., 5., 5., 5., 5., 5., 5., 5., 5.])"
      ]
     },
     "execution_count": 21,
     "metadata": {},
     "output_type": "execute_result"
    }
   ],
   "source": [
    "arr * 5"
   ]
  },
  {
   "cell_type": "code",
   "execution_count": 23,
   "metadata": {},
   "outputs": [
    {
     "data": {
      "text/plain": [
       "array([10, 11, 12, 13, 14, 15, 16, 17, 18, 19, 20, 21, 22, 23, 24, 25, 26,\n",
       "       27, 28, 29, 30, 31, 32, 33, 34, 35, 36, 37, 38, 39, 40, 41, 42, 43,\n",
       "       44, 45, 46, 47, 48, 49, 50])"
      ]
     },
     "execution_count": 23,
     "metadata": {},
     "output_type": "execute_result"
    }
   ],
   "source": [
    "arr = np.arange(10,51)\n",
    "arr"
   ]
  },
  {
   "cell_type": "code",
   "execution_count": 25,
   "metadata": {},
   "outputs": [
    {
     "data": {
      "text/plain": [
       "array([[0, 1, 2],\n",
       "       [3, 4, 5],\n",
       "       [6, 7, 8]])"
      ]
     },
     "execution_count": 25,
     "metadata": {},
     "output_type": "execute_result"
    }
   ],
   "source": [
    "ar_2d = np.arange(0,9).reshape(3,3)\n",
    "ar_2d"
   ]
  },
  {
   "cell_type": "code",
   "execution_count": 26,
   "metadata": {},
   "outputs": [
    {
     "data": {
      "text/plain": [
       "array([[1., 0., 0.],\n",
       "       [0., 1., 0.],\n",
       "       [0., 0., 1.]])"
      ]
     },
     "execution_count": 26,
     "metadata": {},
     "output_type": "execute_result"
    }
   ],
   "source": [
    "np.eye(3)"
   ]
  },
  {
   "cell_type": "code",
   "execution_count": 37,
   "metadata": {},
   "outputs": [
    {
     "data": {
      "text/plain": [
       "0.38272881463915465"
      ]
     },
     "execution_count": 37,
     "metadata": {},
     "output_type": "execute_result"
    }
   ],
   "source": [
    "np.random.rand()"
   ]
  },
  {
   "cell_type": "code",
   "execution_count": 38,
   "metadata": {},
   "outputs": [
    {
     "data": {
      "text/plain": [
       "array([ 1.09068703, -0.18203447, -2.0335401 ,  0.39908264, -0.31173255,\n",
       "        1.21268321, -0.33417936, -1.02737742, -0.94816006,  0.20186603,\n",
       "        0.2707846 ,  0.76922604, -1.22393435, -0.67921335,  0.08948561,\n",
       "        0.72323007, -0.63689139,  0.98094179,  1.14367305, -1.22542849,\n",
       "       -2.13413742,  1.0108213 ,  0.37406838, -1.70751219, -0.78704022])"
      ]
     },
     "execution_count": 38,
     "metadata": {},
     "output_type": "execute_result"
    }
   ],
   "source": [
    "np.random.randn(25)"
   ]
  },
  {
   "cell_type": "code",
   "execution_count": 43,
   "metadata": {},
   "outputs": [
    {
     "data": {
      "text/plain": [
       "array([[-0.06097113,  0.9026962 ,  1.16741966, -1.48070744,  0.01336605,\n",
       "         0.55789268,  1.20477069, -0.40672043, -1.24152344, -0.08452393],\n",
       "       [ 0.53355859,  0.32119794,  1.01501182,  1.20445213,  0.51432357,\n",
       "         0.01001926, -0.37992176, -0.77743567, -0.62017638,  1.07666603],\n",
       "       [-1.26386858, -0.11458194,  1.55191191,  1.64270047, -0.47728953,\n",
       "         0.64012777,  0.95345266,  1.2866107 ,  1.04006877, -1.22868125],\n",
       "       [-2.2084332 ,  0.37183758,  0.68009181,  0.19718818,  0.88403875,\n",
       "        -1.15110778, -1.49292108,  0.35919412, -1.53914043,  0.21719539],\n",
       "       [-0.65850743,  0.66334899,  2.11941533, -0.19370084,  1.40601591,\n",
       "        -1.40665028, -2.21248904, -0.34180297, -1.19644708, -0.58674141],\n",
       "       [-0.75613167, -0.18326937, -0.00912229,  1.10468678,  0.72076869,\n",
       "         1.61866468, -0.79174143,  1.35812933, -0.45074824,  0.73389645],\n",
       "       [-0.2328641 , -0.20216532, -1.54134006,  0.93396227,  1.98501509,\n",
       "         1.22320291,  0.25821197,  0.21378405,  1.29479818, -0.28610216],\n",
       "       [-0.08111826, -0.7154588 , -0.34987788,  0.71190421,  1.1306622 ,\n",
       "         1.34347834,  0.69096652, -0.70128307,  0.37272305,  0.11367368],\n",
       "       [ 1.1426169 ,  0.98152804, -1.67021842,  1.4616874 , -1.0650893 ,\n",
       "         0.85898036, -0.10039591, -1.47104427,  0.0058029 ,  0.75974806],\n",
       "       [ 0.16906991, -0.42007431,  0.17466447, -0.08654707,  0.47805108,\n",
       "        -0.60970583,  0.41849182,  0.6411783 , -0.63349908, -0.73916404]])"
      ]
     },
     "execution_count": 43,
     "metadata": {},
     "output_type": "execute_result"
    }
   ],
   "source": [
    "np.random.randn(10,10)"
   ]
  },
  {
   "cell_type": "code",
   "execution_count": 44,
   "metadata": {},
   "outputs": [
    {
     "data": {
      "text/plain": [
       "array([0.        , 0.05263158, 0.10526316, 0.15789474, 0.21052632,\n",
       "       0.26315789, 0.31578947, 0.36842105, 0.42105263, 0.47368421,\n",
       "       0.52631579, 0.57894737, 0.63157895, 0.68421053, 0.73684211,\n",
       "       0.78947368, 0.84210526, 0.89473684, 0.94736842, 1.        ])"
      ]
     },
     "execution_count": 44,
     "metadata": {},
     "output_type": "execute_result"
    }
   ],
   "source": [
    "np.linspace(0,1,20)"
   ]
  },
  {
   "cell_type": "code",
   "execution_count": 45,
   "metadata": {},
   "outputs": [
    {
     "data": {
      "text/plain": [
       "1230"
      ]
     },
     "execution_count": 45,
     "metadata": {},
     "output_type": "execute_result"
    }
   ],
   "source": [
    "np.sum(arr)"
   ]
  },
  {
   "cell_type": "code",
   "execution_count": 47,
   "metadata": {},
   "outputs": [
    {
     "data": {
      "text/plain": [
       "36"
      ]
     },
     "execution_count": 47,
     "metadata": {},
     "output_type": "execute_result"
    }
   ],
   "source": [
    "np.sum(ar_2d[:])"
   ]
  },
  {
   "cell_type": "code",
   "execution_count": null,
   "metadata": {},
   "outputs": [],
   "source": []
  }
 ],
 "metadata": {
  "kernelspec": {
   "display_name": "Python 3",
   "language": "python",
   "name": "python3"
  },
  "language_info": {
   "codemirror_mode": {
    "name": "ipython",
    "version": 3
   },
   "file_extension": ".py",
   "mimetype": "text/x-python",
   "name": "python",
   "nbconvert_exporter": "python",
   "pygments_lexer": "ipython3",
   "version": "3.6.5"
  }
 },
 "nbformat": 4,
 "nbformat_minor": 2
}
